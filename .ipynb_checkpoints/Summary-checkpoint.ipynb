{
 "cells": [
  {
   "cell_type": "markdown",
   "metadata": {},
   "source": [
    "<img src=\"images/logo.jpg\" style=\"display: block; margin-left: auto; margin-right: auto;\" alt=\"לוגו של מיזם לימוד הפייתון. נחש מצויר בצבעי צהוב וכחול, הנע בין האותיות של שם הקורס: לומדים פייתון. הסלוגן המופיע מעל לשם הקורס הוא מיזם חינמי ללימוד תכנות בעברית.\">"
   ]
  },
  {
   "cell_type": "markdown",
   "metadata": {},
   "source": [
    "# <p style=\"text-align:right;direction:rtl;\"> תרגילים </p> "
   ]
  },
  {
   "cell_type": "markdown",
   "metadata": {},
   "source": [
    "## <p style=\"text-align:right;direction:rtl;\"> בחירות במדינת הגמדים </p>"
   ]
  },
  {
   "cell_type": "markdown",
   "metadata": {},
   "source": [
    "<p style=\"text-align:right;direction:rtl;\">\n",
    "    במדינת הגמדים רעש מהומה, ולכן החליטו ללכת לבחירות.<br>\n",
    "    ועדת הבחירות המרכזית, בראשות דרדסבא, ערכה בחירות חשאיות והוגנות והציגה לפניכם את התוצאות בקובץ elections.txt המצורף (בתיקיית resources), על כל 353,400 בוחריה.<br>\n",
    "    הקובץ הינו רשימה של שמות המפלגות שבהן בחרו תושבי מדינת הגמדים, כאשר כל שורה מייצגת בחירה של תושב מדינת הגמדים.<br>\n",
    "    כדי לשמור על טוהר הבחירות לא נאמר לכם במפורש מהו מספר המפלגות שהגישו את רשימותיהן לוועדת הבחירות.<br>\n",
    "    עליכם הוטלה המשימה לעבור על קובץ תוצאות הבחירות ולדווח כמה קולות קיבלה כל מפלגה.<br>\n",
    "    כתבו פונקציה שלא מקבלת פרמטרים ומחזירה את תוצאות הבחירות במילון ובו שם המפלגה ומספר הקולות שקיבלה.\n",
    "</p>"
   ]
  },
  {
   "cell_type": "code",
   "execution_count": 99,
   "metadata": {},
   "outputs": [],
   "source": [
    "# כתבו את הפונקציה שלכם כאן: get_election_results()\n",
    "def get_election_results():\n",
    "    file_path = 'resources/elections.txt'\n",
    "    raw_election_results = get_raw_results(file_path)\n",
    "    parties_list = get_parties_list(raw_election_results)\n",
    "    election_results = {}\n",
    "    for party_name in parties_list:\n",
    "        election_results[party_name] = raw_election_results.count(party_name)\n",
    "#     print(f\" The election results are: \\n {election_results}\\n\\n\")\n",
    "    return election_results\n",
    "#     name_of_parties_that_pass_vote_threshold(election_results)\n",
    "# #     print(len(parties_list))\n",
    "#     print(num_of_passed_votes(election_results))\n",
    "#     get_mandats(election_results)\n",
    "    \n",
    "    \n",
    "\n",
    "    \n",
    "def get_raw_results(file_path):\n",
    "    election_results_file = open(file_path, 'r')\n",
    "    election_results = election_results_file.readlines()\n",
    "    new_election_results = []\n",
    "    for choise in election_results:\n",
    "        new_election_results.append(choise.replace('\\n',''))\n",
    "    return new_election_results\n",
    "\n",
    "    \n",
    "def get_parties_list(election_results):\n",
    "    return list(set(election_results))"
   ]
  },
  {
   "cell_type": "code",
   "execution_count": 100,
   "metadata": {
    "scrolled": false
   },
   "outputs": [
    {
     "data": {
      "text/plain": [
       "{'MidgeLandIsUs': 68582,\n",
       " 'GreenMidgeLand': 5983,\n",
       " 'NilsIsALeader': 63702,\n",
       " 'SnufkinForCouncil': 35830,\n",
       " 'DorothyForMidgeLand': 23071,\n",
       " 'BestForMidgeLand': 40144,\n",
       " 'GulliverIsBest': 25928,\n",
       " 'FingeroniBringsPeace': 22457,\n",
       " 'OnlyTovTov': 41075,\n",
       " 'WiliWanka': 26628}"
      ]
     },
     "execution_count": 100,
     "metadata": {},
     "output_type": "execute_result"
    }
   ],
   "source": [
    "get_election_results()"
   ]
  },
  {
   "cell_type": "markdown",
   "metadata": {},
   "source": [
    "<p style=\"text-align:right;direction:rtl;\">\n",
    "    אחוז החסימה במדינת הגמדים הוא אכזרי למדי ועומד על 10%.<br>\n",
    "    כיון שהצביעו 353,400 גמדים – אחוז החסימה עומד על\n",
    "    $353,400*0.1=35,340$ קולות.<br>\n",
    "    כתבו פונקציה המקבלת את מילון תוצאות הבחירות ומדפיסה אילו מפלגות עברו את אחוז החסימה ואילו לא.\n",
    "</p>"
   ]
  },
  {
   "cell_type": "code",
   "execution_count": 116,
   "metadata": {},
   "outputs": [],
   "source": [
    "def name_of_parties_that_pass_vote_threshold(election_results):\n",
    "    print(\"The parties that pass the vote threshold: \\n\")\n",
    "    passed_list = []\n",
    "    for party, party_num_of_votes in election_results.items():\n",
    "        if is_passed_vote_threshold(election_results, party_num_of_votes):\n",
    "            passed_list.append(party)\n",
    "            print(f\"{party}\\n\")\n",
    "\n",
    "def get_total_num_of_votes(election_results):\n",
    "    count = 0\n",
    "    for party, num_of_votes in election_results.items():\n",
    "        count += num_of_votes\n",
    "    return count\n",
    "\n",
    "def is_passed_vote_threshold(election_results, party_num_of_votes):\n",
    "    total_num_of_votes = get_total_num_of_votes(election_results)\n",
    "    return total_num_of_votes * 0.1 <= party_num_of_votes"
   ]
  },
  {
   "cell_type": "code",
   "execution_count": 117,
   "metadata": {},
   "outputs": [
    {
     "name": "stdout",
     "output_type": "stream",
     "text": [
      "The parties that pass the vote threshold: \n",
      "\n",
      "MidgeLandIsUs\n",
      "\n",
      "NilsIsALeader\n",
      "\n",
      "SnufkinForCouncil\n",
      "\n",
      "BestForMidgeLand\n",
      "\n",
      "OnlyTovTov\n",
      "\n"
     ]
    }
   ],
   "source": [
    "name_of_parties_that_pass_vote_threshold(get_election_results())"
   ]
  },
  {
   "cell_type": "markdown",
   "metadata": {},
   "source": [
    "<p style=\"text-align:right;direction:rtl;\">\n",
    "כעת כתבו פונקציה המקבלת את מילון תוצאות הבחירות ומחזירה את מספר הקולות שקיבלו רק מפלגות שעברו את אחוז החסימה.</p>"
   ]
  },
  {
   "cell_type": "code",
   "execution_count": 126,
   "metadata": {},
   "outputs": [],
   "source": [
    "def num_of_passed_votes(election_results):\n",
    "    count = 0\n",
    "    for party_name, party_votes in election_results.items():\n",
    "        if is_passed_vote_threshold(election_results, party_votes):\n",
    "            count += election_results[party_name]\n",
    "    return count"
   ]
  },
  {
   "cell_type": "code",
   "execution_count": 127,
   "metadata": {},
   "outputs": [
    {
     "data": {
      "text/plain": [
       "249333"
      ]
     },
     "execution_count": 127,
     "metadata": {},
     "output_type": "execute_result"
    }
   ],
   "source": [
    "num_of_passed_votes(get_election_results())"
   ]
  },
  {
   "cell_type": "markdown",
   "metadata": {},
   "source": [
    "<p style=\"text-align:right;direction:rtl;\">\n",
    "    אחרי שסיימתם בדקו שקיבלתם את הערך הבא: <span style=\"direction: rtl; background: #000; text: #000\">249,333</span>\n",
    "</p>"
   ]
  },
  {
   "cell_type": "markdown",
   "metadata": {},
   "source": [
    "<p style=\"text-align:right;direction:rtl;\">\n",
    "    לאחר קבלת תוצאות האמת המפלגות פועלות להקים קואליציה. קואליציה מורכבת מ־61 מנדטים לפחות.<br>\n",
    "    מנדט שווה: $\\dfrac{votes}{120}=2.077.775\\cong2,078$ קולות.<br>\n",
    "    שימו לב, הקולות בתרגיל זה הם התוצאה של הסעיף הקודם. כלומר הקולות בניכוי הקולות עבור מפלגות שלא עברו את אחוז החסימה.<br>\n",
    "    כעת כתבו פונקציה המקבלת את מילון התוצאות ומחזירה מילון שבו שם המפלגה ממופה עם מספר המנדטים שקיבלה המפלגה.<br>\n",
    "    הפעילו את פונקנציית <code>round</code> על תוצאת החלוקה (השתמשו ב־2,078) כדי לקבל את מספר המנדטים השלם.\n",
    "</p>"
   ]
  },
  {
   "cell_type": "code",
   "execution_count": 158,
   "metadata": {},
   "outputs": [],
   "source": [
    "def get_mandats(election_results):\n",
    "    num_of_passed_votes_value = num_of_passed_votes(election_results)\n",
    "    mandat_value = get_mandat_value(num_of_passed_votes_value)\n",
    "#     print(f\"mandat value: {mandat_value}\")\n",
    "    parties_mandats = {}\n",
    "    for party_name, party_votes in election_results.items():\n",
    "        if is_passed_vote_threshold(election_results, party_votes):\n",
    "#             print(f\"{party_name:20} party_votes / mandat_value: {party_votes} / {mandat_value} = {party_votes / mandat_value}\")\n",
    "            parties_mandats[party_name] = round(party_votes / mandat_value)\n",
    "    print(parties_mandats)\n",
    "    return parties_mandats\n",
    "        \n",
    "def get_mandat_value(num_of_passed_votes):\n",
    "    return round(num_of_passed_votes/120)"
   ]
  },
  {
   "cell_type": "code",
   "execution_count": 159,
   "metadata": {},
   "outputs": [
    {
     "name": "stdout",
     "output_type": "stream",
     "text": [
      "{'MidgeLandIsUs': 33, 'NilsIsALeader': 31, 'SnufkinForCouncil': 17, 'BestForMidgeLand': 19, 'OnlyTovTov': 20}\n"
     ]
    },
    {
     "data": {
      "text/plain": [
       "{'MidgeLandIsUs': 33,\n",
       " 'NilsIsALeader': 31,\n",
       " 'SnufkinForCouncil': 17,\n",
       " 'BestForMidgeLand': 19,\n",
       " 'OnlyTovTov': 20}"
      ]
     },
     "execution_count": 159,
     "metadata": {},
     "output_type": "execute_result"
    }
   ],
   "source": [
    "get_mandats(get_election_results())"
   ]
  },
  {
   "cell_type": "markdown",
   "metadata": {},
   "source": [
    "<p style=\"text-align:right;direction:rtl;\">\n",
    "הדפיסו את המילון שקיבלתם. ודאו שסך המנדטים מסתכם ל־120.</p>"
   ]
  },
  {
   "cell_type": "markdown",
   "metadata": {},
   "source": [
    "<p style=\"text-align:right;direction:rtl;\">\n",
    "כדי להרכיב קואליציה דרושים 61 מנדטים.<br>\n",
    "המפלגות MidgeLandIsUs ו־NilsIsALeader לא מוכנות לשבת יחד בקואליציה.<br>\n",
    "כתבו פונקציה המקבלת את המילון המכיל את תוצאות המנדטים ומדפיסה קואליציה אפשרית עבור NilsIsALeader וקואליציה אפשרית עבור MidgeLandIsUs.\n",
    "</p> "
   ]
  },
  {
   "cell_type": "code",
   "execution_count": 180,
   "metadata": {},
   "outputs": [],
   "source": [
    "def possible_coalition(parties_mandats):\n",
    "    MidgeLandIsUs_option_list = get_option_list(parties_mandats, 'MidgeLandIsUs', 'NilsIsALeader')\n",
    "    NilsIsALeader_option_list = get_option_list(parties_mandats, 'NilsIsALeader', 'MidgeLandIsUs')\n",
    "    print(f\"MidgeLandIsUs option list is: {MidgeLandIsUs_option_list}\")\n",
    "    print(f\"NilsIsALeader option list is: {NilsIsALeader_option_list}\")\n",
    "            \n",
    "\n",
    "def get_option_list(parties_mandats, chosen_party_name, cant_sit_with):\n",
    "    count = parties_mandats[chosen_party_name]\n",
    "    option_list = []\n",
    "    for party_name, party_mandats in parties_mandats.items():\n",
    "        if(count >= 61):\n",
    "            break\n",
    "        if(party_name != chosen_party_name and party_name != cant_sit_with):\n",
    "#             print(party_name)\n",
    "            count += party_mandats\n",
    "            option_list.append(party_name)\n",
    "#     print(count)\n",
    "    return option_list"
   ]
  },
  {
   "cell_type": "code",
   "execution_count": 181,
   "metadata": {},
   "outputs": [
    {
     "name": "stdout",
     "output_type": "stream",
     "text": [
      "{'MidgeLandIsUs': 33, 'NilsIsALeader': 31, 'SnufkinForCouncil': 17, 'BestForMidgeLand': 19, 'OnlyTovTov': 20}\n",
      "MidgeLandIsUs option list is: ['SnufkinForCouncil', 'BestForMidgeLand']\n",
      "NilsIsALeader option list is: ['SnufkinForCouncil', 'BestForMidgeLand']\n"
     ]
    }
   ],
   "source": [
    "possible_coalition(get_mandats(get_election_results()))"
   ]
  },
  {
   "cell_type": "markdown",
   "metadata": {},
   "source": [
    "## <p style=\"text-align:right;direction:rtl;\">Leveraging Simple Dictionaries</p>"
   ]
  },
  {
   "cell_type": "markdown",
   "metadata": {},
   "source": [
    "### <p style=\"text-align:right;direction:rtl;\">הקדמה</p>"
   ]
  },
  {
   "cell_type": "markdown",
   "metadata": {},
   "source": [
    "<p style=\"text-align:right;direction:rtl;\">\n",
    "    <dfn>אוטומט סופי דטרמיניסטי</dfn> הוא מודל מתמטי שמגדיר אוסף של מצבים, וכללי מעבר ביניהם.<br>\n",
    "    נפתח בדוגמה:<br>\n",
    "    <figure>\n",
    "        <img src=\"images/even_dfa.svg\"  style=\"max-width:100%; margin-right: auto; margin-left: auto; text-align: center;\" width=\"450px\" alt=\"תמונת דוגמה לאוטומט סופי דטרמיניסטי. בצד ימין ישנו חץ שעליו כתוב 'התחלה'. החץ מצביע לעיגול שבו יש את המילים 'אי־זוגי', וממנו יוצא חץ לכיוון עיגול כפול שבו כתוב 'זוגי'. על החץ כתוב 'הספרה 2, 4, 6, 8 או 0'. מהעיגול הכפול יוצא חץ חזרה לעיגול הראשון, עליו כתוב 'הספרה 1, 3, 5, 7 או 9'. מהעיגול 'זוגי' יוצא חץ לעצמו עם המספרים 2, 4, 6, 8 ו־0. מהעיגול 'אי־זוגי' יוצא חץ לעצמו עם המספרים 1, 3, 5, 7, 9. \">\n",
    "        <figcaption style=\"text-align: center; direction: rtl;\">אוטומט סופי דטרמיניסטי שבודק האם מספר מסוים הוא מספר זוגי.</figcaption>\n",
    "    </figure>\n",
    "</p>"
   ]
  },
  {
   "cell_type": "markdown",
   "metadata": {},
   "source": [
    "<p style=\"text-align:right;direction:rtl;\">\n",
    "    לפניכם מכונת מצבים שמקבלת מספר, ובודקת האם הוא זוגי.<br>\n",
    "    כל מצב מיוצג בתמונה על ידי עיגול, וכללי המעבר ביניהם מיוצגים באמצעות חצים.\n",
    "</p>"
   ]
  },
  {
   "cell_type": "markdown",
   "metadata": {},
   "source": [
    "<p style=\"text-align:right;direction:rtl;\">\n",
    "    המכונה מתחילה מ\"מצב התחלתי\" נתון כלשהו, במקרה שלנו \"מספר אי זוגי\".<br>\n",
    "    כל פעם שמתקבל קלט חדש, המכונה מחליטה לאיזה מצב לעבור לפי כללי המעבר הרשומים על החצים.<br>\n",
    "    לדוגמה, עבור הקלט 2 ואז 7 ואז 4 (274) מכונת המצבים המופיעה מעלה תבצע את הפעולות הבאות:\n",
    "</p>"
   ]
  },
  {
   "cell_type": "markdown",
   "metadata": {},
   "source": [
    "<ol style=\"text-align: right; direction: rtl; float: right; clear: both;\">\n",
    "    <li>תכנס למצב ההתחלתי \"מספר אי זוגי\".</li>\n",
    "    <li>תקרא את הספרה הראשונה במספר – 2, ותחליט לעבור (לפי החץ) למצב \"מספר זוגי\".</li> \n",
    "    <li>תקרא את הספרה השנייה במספר – 7, ותחליט לעבור (לפי החץ) למצב \"מספר אי־זוגי\".</li> \n",
    "    <li>תקרא את הספרה השלישית במספר – 4, ותחליט לעבור (לפי החץ) למצב \"מספר זוגי\".</li>\n",
    "</ol>"
   ]
  },
  {
   "cell_type": "markdown",
   "metadata": {},
   "source": [
    "<p style=\"text-align:right;direction:rtl;\">\n",
    "    לכל מצב באוטומט סופי דטרמיניסטי יש \"סוג מצב\": מקבל או לא מקבל.<br>\n",
    "    מצב מקבל מסומן בעיגול כפול, כמו המצב \"מספר זוגי\" באוטומט דלעיל.<br>\n",
    "    אם בסוף הריצה הגענו למצב מקבל, סימן שהקלט תקין, ואם לא – סימן שהקלט אינו תקין.<br>\n",
    "    באוטומט הדוגמה שלנו כל קלט מספרי זוגי הוא תקין, וכל מספרי אי־זוגי נחשב ללא תקין.\n",
    "</p>"
   ]
  },
  {
   "cell_type": "markdown",
   "metadata": {},
   "source": [
    "<p style=\"text-align:right;direction:rtl;\">\n",
    "    כל אפשרות הכלולה במצבי המעבר נקראת <dfn>אות</dfn>. אוסף כל האותיות הכלולות באוטומט מסוים נקרא <dfn>א\"ב הקלט</dfn>.<br>\n",
    "    שימו לב שבאוטומט יכולה להיות כמות גדולה של מצבים וכללי־מעבר, ובכל אוטומט יכול להיות יותר ממצב מקבל אחד.<br>\n",
    "    כמו כן, \"אות\" בא\"ב יכולה לכלול יותר מתו אחד.\n",
    "</p>"
   ]
  },
  {
   "cell_type": "markdown",
   "metadata": {},
   "source": [
    "### <p style=\"text-align:right;direction:rtl;\">תרגיל</p>"
   ]
  },
  {
   "cell_type": "markdown",
   "metadata": {},
   "source": [
    "<p style=\"text-align:right;direction:rtl;\">\n",
    "   כתבו תוכנה שקוראת קובץ ויוצרת ממנו אוטומט סופי דטרמיניסטי.<br>\n",
    "   בקובץ ישנו כל המידע הדרוש לבניית האוטומט, ורשימת קלטים. דוגמה לקובץ שכזה מופיעה מטה.<br>\n",
    "   הדפיסו עבור כל קלט האם לאחר הרצתו האוטומט הגיע למצב מקבל או למצב לא מקבל.\n",
    "</p>"
   ]
  },
  {
   "cell_type": "markdown",
   "metadata": {},
   "source": [
    "<p style=\"text-align:right;direction:rtl;\">\n",
    "    הקובץ שהתוכנה שלכם אמורה לקרוא ונועד לתאר את האוטומט המופיע למעלה נראה כך:\n",
    "</p>"
   ]
  },
  {
   "cell_type": "raw",
   "metadata": {},
   "source": [
    "Definitions:\n",
    "States: q0, q1\n",
    "Start: q0\n",
    "Accepting: q1\n",
    "\n",
    "Transitions:\n",
    "q0: 2, 4, 6, 8, 0 -> q1\n",
    "q0: 1, 3, 5, 7, 9 -> q0\n",
    "q1: 2, 4, 6, 8, 0 -> q1\n",
    "q1: 1, 3, 5, 7, 9 -> q0\n",
    "\n",
    "Inputs:\n",
    "1, 3, 1\n",
    "2, 7, 4\n",
    "2, 2, 2, 2"
   ]
  },
  {
   "cell_type": "markdown",
   "metadata": {},
   "source": [
    "<p style=\"text-align:right;direction:rtl;\">\n",
    "    על התוכנה שבניתם להדפיס במקרה הזה:\n",
    "</p>"
   ]
  },
  {
   "cell_type": "raw",
   "metadata": {},
   "source": [
    "False\n",
    "True\n",
    "False"
   ]
  },
  {
   "cell_type": "markdown",
   "metadata": {},
   "source": [
    "### <p style=\"text-align:right;direction:rtl;\">הסבר עבור הדוגמה</p>"
   ]
  },
  {
   "cell_type": "markdown",
   "metadata": {},
   "source": [
    "<p style=\"text-align:right;direction:rtl;\">\n",
    "    הפסקה הראשונה תמיד תראה כך:<br>\n",
    "    הקובץ תמיד יפתח במילה <q dir=\"ltr\">Definitions:</q>.<br>\n",
    "    שורה אחריה תמיד תופיע המילה <q dir=\"ltr\">States:</q>, ואחריה כל המצבים הקיימים במכונת המצבים, מופרדים בפסיק.<br>\n",
    "    שורה אחריה תמיד תופיע המילה <q dir=\"ltr\">Start:</q>, ואחריה המצב ההתחלתי של המכונה.<br>\n",
    "    שורה אחריה תמיד תופיע המילה <q dir=\"ltr\">Accepting:</q>, ואחריה כל המצבים שמוגדרים כמצבים מקבלים במכונת המצבים, מופרדים בפסיק.<br>\n",
    "</p>"
   ]
  },
  {
   "cell_type": "markdown",
   "metadata": {},
   "source": [
    "<p style=\"text-align:right;direction:rtl;\">\n",
    "    הפסקה השנייה תמיד תראה כך:<br>\n",
    "    הפסקה תמיד תפתח במילה <q dir=\"ltr\">Transitions:</q>, ואחריה רשימה של כללי מעבר.<br>\n",
    "    כל כלל מעבר מורכב מהמצב ממנו יוצאים, המצב אליו מגיעים ומה הקלט ש\"מפעיל\" את המעבר.<br>\n",
    "    השורה תכתב באופן הבא, כאשר X הוא המצב ממנו יוצאים, Z הוא המצב אליו מגיעים ו־Y היא רשימת הקלטים שמפעילה את מצב המעבר:<br>\n",
    "    X: Y -> Z<br>\n",
    "</p>"
   ]
  },
  {
   "cell_type": "markdown",
   "metadata": {},
   "source": [
    "<p style=\"text-align:right;direction:rtl;\">\n",
    "    הפסקה השלישית תמיד תראה כך:<br>\n",
    "    הפסקה תמיד תפתח במילה <q dir=\"ltr\">Inputs:</q>, ואחריה רשימה של קלטים <strong>תקינים</strong>.<br>\n",
    "    כל שורת קלט תופיע בשורה נפרדת בקובץ, ותכלול את רצף הקלטים שיועברו לאוטומט אחד אחרי השני, כאשר הם מופרדים בפסיק.\n",
    "</p>"
   ]
  },
  {
   "cell_type": "markdown",
   "metadata": {},
   "source": [
    "<p style=\"text-align:right;direction:rtl;\">\n",
    "    עבור הקלט הראשון, האוטומט יתחיל מהמצב ההתחלתי q0. האות 1 תשאיר אותו שם, כך גם 3, כך גם 1. מצב לא מקבל.<br>\n",
    "    עבור הקלט השני, האוטומט יתחיל מהמצב ההתחלתי q0. האות 2 תעביר אותו ל־q1, האות 7 תעביר אותו ל־q0, האות 4 תעביר אותו חזרה ל־q1. מצב מקבל.<br>\n",
    "    עבור הקלט השלישי, האוטומט יתחיל מהמצב ההתחלתי q0. האות 2 תעביר אותו ל־q1, האות 2 תשאיר אותו ב־q1 בכל המופעים הבאים שלה. מצב מקבל.<br>\n",
    "</p>"
   ]
  },
  {
   "cell_type": "markdown",
   "metadata": {},
   "source": [
    "### <p style=\"text-align:right;direction:rtl;\">דוגמה נוספת</p>"
   ]
  },
  {
   "cell_type": "markdown",
   "metadata": {},
   "source": [
    "<p style=\"text-align:right;direction:rtl;\">\n",
    "    זוהי דוגמה לקובץ שמתאר את האוטומט המופיע <a href=\"https://en.wikipedia.org/wiki/Deterministic_finite_automaton#/media/File:DFA_example_multiplies_of_3.svg\">כאן</a>.\n",
    "</p>"
   ]
  },
  {
   "cell_type": "raw",
   "metadata": {},
   "source": [
    "Definitions:\n",
    "States: s0, s1, s2\n",
    "Start: s0\n",
    "Accepting: s0\n",
    "\n",
    "Transitions:\n",
    "s0: 0 -> s0\n",
    "s0: 1 -> s1\n",
    "s1: 1 -> s0\n",
    "s1: 0 -> s2\n",
    "s2: 0 -> s1\n",
    "s2: 1 -> s2\n",
    "\n",
    "Inputs:\n",
    "0\n",
    "0, 1\n",
    "0, 1, 0\n",
    "0, 0, 0, 0\n",
    "0, 1, 1, 1, 1, 1, 0"
   ]
  }
 ],
 "metadata": {
  "kernelspec": {
   "display_name": "Python 3",
   "language": "python",
   "name": "python3"
  },
  "language_info": {
   "codemirror_mode": {
    "name": "ipython",
    "version": 3
   },
   "file_extension": ".py",
   "mimetype": "text/x-python",
   "name": "python",
   "nbconvert_exporter": "python",
   "pygments_lexer": "ipython3",
   "version": "3.7.4"
  }
 },
 "nbformat": 4,
 "nbformat_minor": 2
}
